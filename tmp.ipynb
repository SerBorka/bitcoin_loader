{
 "cells": [
  {
   "cell_type": "code",
   "execution_count": 3,
   "metadata": {},
   "outputs": [],
   "source": [
    "import pandas as pd\n",
    "import json\n",
    "import datetime"
   ]
  },
  {
   "cell_type": "code",
   "execution_count": 4,
   "metadata": {},
   "outputs": [],
   "source": [
    "def decode_v(x):\n",
    "    r = x[1:-1]\n",
    "    r = r.replace(\"'\",'\"')\n",
    "    s = r.split(': ')[0]+': '\n",
    "    r = r.split(s)[1:]\n",
    "    r = [s+i for i in r]\n",
    "    r = [i[:-2] if i[-2:]==', ' else i for i in r]\n",
    "    r = [json.loads(i) for i in r]\n",
    "    return r\n",
    "\n",
    "def ts2dt(x):\n",
    "    return datetime.datetime.fromtimestamp(x)\n",
    "\n",
    "\n",
    "def get_vout(block_path):\n",
    "    d = pd.read_csv(block_path)\n",
    "    d['vout'] = d['vout'].map(decode_v)\n",
    "\n",
    "    t = enumerate(d['vout'].values)\n",
    "    t = [{**{'index':i},**j} for (i,v) in t for j in v]\n",
    "    t = pd.DataFrame.from_dict(t)\n",
    "    \n",
    "    vout = t['scriptPubKey'].values\n",
    "    vout = pd.DataFrame.from_records(vout)\n",
    "    vout = pd.concat([t.iloc[:,:2], vout], axis=1)\n",
    "    vout = pd.merge(vout,d.reset_index(), how='left', on='index')\n",
    "    vout['time'] = vout['time'].map(ts2dt)\n",
    "    vout['date'] = vout['time'].dt.date\n",
    "    return vout\n",
    "\n",
    "\n",
    "\n",
    "def get_vin(block_path):\n",
    "    d = pd.read_csv(block_path)\n",
    "    d['vin'] = d['vin'].map(decode_v)\n",
    "\n",
    "    t = enumerate(d['vin'].values)\n",
    "    t = [{**{'index':i},**j} for (i,v) in t for j in v]\n",
    "    t = pd.DataFrame.from_dict(t)\n",
    "\n",
    "    vin = t['scriptSig'].map(lambda x: x if x==x else {'asm': None, 'hex': None})#.values\n",
    "    vin = pd.DataFrame.from_records(vin)\n",
    "    vin = pd.concat([t.iloc[:,:2], vin], axis=1)\n",
    "    vin = pd.merge(vin,d.reset_index(), how='left', on='index')\n",
    "\n",
    "    vin['time'] = vin['time'].map(ts2dt)\n",
    "    vin['date'] = vin['time'].dt.date\n",
    "\n",
    "    return vin\n"
   ]
  },
  {
   "cell_type": "code",
   "execution_count": 5,
   "metadata": {},
   "outputs": [],
   "source": [
    "def filter_tx(tx, check_path):\n",
    "    check = pd.read_csv(check_path, index_col=0)\n",
    "    check['ltime'] = pd.to_datetime(check['ltime'])\n",
    "    check['date'] = check['ltime'].dt.date\n",
    "    \n",
    "    tmp = pd.merge(left=tx, right=check, how='inner', on='date')\n",
    "    \n",
    "    tmp['delta_time'] = (tmp['time'] - tmp['ltime']) / datetime.timedelta(minutes=1)\n",
    "    tmp = tmp[tmp['delta_time'].abs()<30]\n",
    "    tmp = tmp[tmp['delta_time']>0]\n",
    "    tmp['delta_sum'] = 2*(tmp['value'] - tmp['btcsum']) / (tmp['btcsum'] + tmp['value'])\n",
    "    tmp = tmp[tmp['delta_sum'] < 0.1]\n",
    "    tmp = tmp[tmp['delta_sum'] > 0]\n",
    "\n",
    "    return tmp"
   ]
  },
  {
   "cell_type": "code",
   "execution_count": 6,
   "metadata": {},
   "outputs": [
    {
     "data": {
      "text/html": [
       "<div>\n",
       "<style scoped>\n",
       "    .dataframe tbody tr th:only-of-type {\n",
       "        vertical-align: middle;\n",
       "    }\n",
       "\n",
       "    .dataframe tbody tr th {\n",
       "        vertical-align: top;\n",
       "    }\n",
       "\n",
       "    .dataframe thead th {\n",
       "        text-align: right;\n",
       "    }\n",
       "</style>\n",
       "<table border=\"1\" class=\"dataframe\">\n",
       "  <thead>\n",
       "    <tr style=\"text-align: right;\">\n",
       "      <th></th>\n",
       "      <th>index</th>\n",
       "      <th>value</th>\n",
       "      <th>asm</th>\n",
       "      <th>desc</th>\n",
       "      <th>hex_x</th>\n",
       "      <th>address</th>\n",
       "      <th>type</th>\n",
       "      <th>in_active_chain</th>\n",
       "      <th>txid</th>\n",
       "      <th>hash</th>\n",
       "      <th>...</th>\n",
       "      <th>hex_y</th>\n",
       "      <th>blockhash</th>\n",
       "      <th>confirmations</th>\n",
       "      <th>time</th>\n",
       "      <th>blocktime</th>\n",
       "      <th>date</th>\n",
       "      <th>ltime</th>\n",
       "      <th>btcsum</th>\n",
       "      <th>delta_time</th>\n",
       "      <th>delta_sum</th>\n",
       "    </tr>\n",
       "  </thead>\n",
       "  <tbody>\n",
       "  </tbody>\n",
       "</table>\n",
       "<p>0 rows × 27 columns</p>\n",
       "</div>"
      ],
      "text/plain": [
       "Empty DataFrame\n",
       "Columns: [index, value, asm, desc, hex_x, address, type, in_active_chain, txid, hash, version, size, vsize, weight, locktime, vin, vout, hex_y, blockhash, confirmations, time, blocktime, date, ltime, btcsum, delta_time, delta_sum]\n",
       "Index: []\n",
       "\n",
       "[0 rows x 27 columns]"
      ]
     },
     "execution_count": 6,
     "metadata": {},
     "output_type": "execute_result"
    }
   ],
   "source": [
    "current_block_csv = './rpc_block_834577_txs.csv'\n",
    "check_csv = './check_btc.csv'\n",
    "\n",
    "filter_tx(get_vout(current_block_csv),check_csv)"
   ]
  },
  {
   "cell_type": "code",
   "execution_count": 7,
   "metadata": {},
   "outputs": [
    {
     "data": {
      "text/plain": [
       "array(['2024-03-13 22:35:25', '2024-03-13 21:50:27',\n",
       "       '2024-03-13 22:06:34', '2024-03-13 22:08:39',\n",
       "       '2024-03-14 11:21:29', '2024-03-14 11:36:48',\n",
       "       '2024-03-16 09:45:33', '2024-03-17 07:52:21'], dtype=object)"
      ]
     },
     "execution_count": 7,
     "metadata": {},
     "output_type": "execute_result"
    }
   ],
   "source": [
    "f = pd.read_csv('./filtered_rpc_vouts2.csv').reset_index()\n",
    "f['ltime'].unique()"
   ]
  },
  {
   "cell_type": "code",
   "execution_count": 8,
   "metadata": {},
   "outputs": [],
   "source": [
    "cols = ['value', 'asm', 'address', 'txid', 'hash','vin', 'vout', 'blockhash', 'blocktime',\n",
    "       'blockNumber','ltime', 'btcsum', 'delta_time', 'delta_sum']\n",
    "#f[cols].to_csv('./bitcoin_nw_res1_raw.csv')"
   ]
  },
  {
   "cell_type": "code",
   "execution_count": 21,
   "metadata": {},
   "outputs": [
    {
     "data": {
      "text/plain": [
       "[('2024-03-20 11:14:41', '2024-03-20 11:15:53'),\n",
       " ('2024-03-20 13:33:43', '2024-03-20 13:33:43'),\n",
       " (nan, nan),\n",
       " ('2024-03-24 13:56:02', '2024-03-24 13:56:02'),\n",
       " ('2024-03-25 12:03:39', '2024-03-25 12:03:39')]"
      ]
     },
     "execution_count": 21,
     "metadata": {},
     "output_type": "execute_result"
    }
   ],
   "source": [
    "btcl = ['filtered_rpc_vouts_835530_835536_2024_03_20_11_43_54.csv',\n",
    "        'filtered_rpc_vouts_835542_835548_2024_03_20_14_22_59.csv',\n",
    "        'filtered_rpc_vouts_836104_836110_2024_03_24_13_52_48.csv',\n",
    "        'filtered_rpc_vouts_836109_836115_2024_03_24_14_24_07.csv',\n",
    "        'filtered_rpc_vouts_836242_836248_2024_03_25_13_31_22.csv']\n",
    "\n",
    "d = ['./pb 2024-06-19/'+btcl[i] for i in range(5)]\n",
    "d = [pd.read_csv(i) for i in d]\n",
    "\n",
    "[(i['time'].min(),\n",
    "  i['time'].max()) for i in d]"
   ]
  },
  {
   "cell_type": "code",
   "execution_count": 28,
   "metadata": {},
   "outputs": [
    {
     "name": "stderr",
     "output_type": "stream",
     "text": [
      "/tmp/ipykernel_336273/3461870833.py:3: FutureWarning: The behavior of DataFrame concatenation with empty or all-NA entries is deprecated. In a future version, this will no longer exclude empty or all-NA columns when determining the result dtypes. To retain the old behavior, exclude the relevant entries before the concat operation.\n",
      "  d = pd.concat(d)\n"
     ]
    },
    {
     "data": {
      "text/plain": [
       "0"
      ]
     },
     "execution_count": 28,
     "metadata": {},
     "output_type": "execute_result"
    }
   ],
   "source": [
    "d = ['./pb 2024-06-19/'+btcl[i] for i in range(5)]\n",
    "d = [pd.read_csv(i) for i in d]\n",
    "d = pd.concat(d)\n",
    "d['vout'].map(decode_v).map(lambda x: sum([i['value']==0.000713040 for i in x])).sum()\n",
    "d['txid'].isin(['b8bea467a95c2a2358540190f6654856d11412e8304e68714a88bc430cd3beff']).sum()"
   ]
  },
  {
   "cell_type": "code",
   "execution_count": 29,
   "metadata": {},
   "outputs": [],
   "source": [
    "d.to_csv('./pb 2024-06-19/res0_raw.csv')"
   ]
  },
  {
   "cell_type": "code",
   "execution_count": 38,
   "metadata": {},
   "outputs": [
    {
     "data": {
      "text/html": [
       "<div>\n",
       "<style scoped>\n",
       "    .dataframe tbody tr th:only-of-type {\n",
       "        vertical-align: middle;\n",
       "    }\n",
       "\n",
       "    .dataframe tbody tr th {\n",
       "        vertical-align: top;\n",
       "    }\n",
       "\n",
       "    .dataframe thead th {\n",
       "        text-align: right;\n",
       "    }\n",
       "</style>\n",
       "<table border=\"1\" class=\"dataframe\">\n",
       "  <thead>\n",
       "    <tr style=\"text-align: right;\">\n",
       "      <th></th>\n",
       "      <th>index</th>\n",
       "      <th>value</th>\n",
       "      <th>vin</th>\n",
       "      <th>vout</th>\n",
       "      <th>btcsum</th>\n",
       "      <th>delta_sum</th>\n",
       "    </tr>\n",
       "  </thead>\n",
       "  <tbody>\n",
       "    <tr>\n",
       "      <th>0</th>\n",
       "      <td>17</td>\n",
       "      <td>0.000266</td>\n",
       "      <td>[{'txid': '837e15ce0dd72eb3d3e2062d1b62dbde477...</td>\n",
       "      <td>[{'value': 0.03079509, 'n': 0, 'scriptPubKey':...</td>\n",
       "      <td>0.000257</td>\n",
       "      <td>0.035504</td>\n",
       "    </tr>\n",
       "    <tr>\n",
       "      <th>1</th>\n",
       "      <td>27</td>\n",
       "      <td>0.000344</td>\n",
       "      <td>[{'txid': 'bcc8939c28df09d49a533444952f45d1a27...</td>\n",
       "      <td>[{'value': 0.00158392, 'n': 0, 'scriptPubKey':...</td>\n",
       "      <td>0.000325</td>\n",
       "      <td>0.055600</td>\n",
       "    </tr>\n",
       "    <tr>\n",
       "      <th>2</th>\n",
       "      <td>78</td>\n",
       "      <td>0.000345</td>\n",
       "      <td>[{'txid': '00ebdfc6374595a54c682d6f9ac808cec92...</td>\n",
       "      <td>[{'value': 0.0, 'n': 0, 'scriptPubKey': {'asm'...</td>\n",
       "      <td>0.000325</td>\n",
       "      <td>0.058734</td>\n",
       "    </tr>\n",
       "    <tr>\n",
       "      <th>3</th>\n",
       "      <td>89</td>\n",
       "      <td>0.000053</td>\n",
       "      <td>[{'txid': '428456007e50efb130c0b7e12046c089b61...</td>\n",
       "      <td>[{'value': 0.00136242, 'n': 0, 'scriptPubKey':...</td>\n",
       "      <td>0.000051</td>\n",
       "      <td>0.033174</td>\n",
       "    </tr>\n",
       "    <tr>\n",
       "      <th>4</th>\n",
       "      <td>89</td>\n",
       "      <td>0.000053</td>\n",
       "      <td>[{'txid': '428456007e50efb130c0b7e12046c089b61...</td>\n",
       "      <td>[{'value': 0.00136242, 'n': 0, 'scriptPubKey':...</td>\n",
       "      <td>0.000051</td>\n",
       "      <td>0.033174</td>\n",
       "    </tr>\n",
       "    <tr>\n",
       "      <th>...</th>\n",
       "      <td>...</td>\n",
       "      <td>...</td>\n",
       "      <td>...</td>\n",
       "      <td>...</td>\n",
       "      <td>...</td>\n",
       "      <td>...</td>\n",
       "    </tr>\n",
       "    <tr>\n",
       "      <th>46</th>\n",
       "      <td>898</td>\n",
       "      <td>0.000169</td>\n",
       "      <td>[{'txid': '4b1a86b3aa5a501c9b9909c6994beb23d18...</td>\n",
       "      <td>[{'value': 0.00060324, 'n': 0, 'scriptPubKey':...</td>\n",
       "      <td>0.000158</td>\n",
       "      <td>0.067762</td>\n",
       "    </tr>\n",
       "    <tr>\n",
       "      <th>47</th>\n",
       "      <td>921</td>\n",
       "      <td>0.000159</td>\n",
       "      <td>[{'txid': '1ed1092254df98c0b717442f5ee3126f47b...</td>\n",
       "      <td>[{'value': 9.058e-05, 'n': 0, 'scriptPubKey': ...</td>\n",
       "      <td>0.000158</td>\n",
       "      <td>0.006101</td>\n",
       "    </tr>\n",
       "    <tr>\n",
       "      <th>48</th>\n",
       "      <td>979</td>\n",
       "      <td>0.000167</td>\n",
       "      <td>[{'txid': 'db36bc06bb09b87b66983cf1ee27f1ad022...</td>\n",
       "      <td>[{'value': 4.488e-05, 'n': 0, 'scriptPubKey': ...</td>\n",
       "      <td>0.000158</td>\n",
       "      <td>0.057293</td>\n",
       "    </tr>\n",
       "    <tr>\n",
       "      <th>49</th>\n",
       "      <td>983</td>\n",
       "      <td>0.000211</td>\n",
       "      <td>[{'txid': '7274893cdb994f3f9b6be1699fabe15619b...</td>\n",
       "      <td>[{'value': 0.0001432, 'n': 0, 'scriptPubKey': ...</td>\n",
       "      <td>0.000195</td>\n",
       "      <td>0.080019</td>\n",
       "    </tr>\n",
       "    <tr>\n",
       "      <th>50</th>\n",
       "      <td>983</td>\n",
       "      <td>0.000209</td>\n",
       "      <td>[{'txid': '7274893cdb994f3f9b6be1699fabe15619b...</td>\n",
       "      <td>[{'value': 0.0001432, 'n': 0, 'scriptPubKey': ...</td>\n",
       "      <td>0.000195</td>\n",
       "      <td>0.071372</td>\n",
       "    </tr>\n",
       "  </tbody>\n",
       "</table>\n",
       "<p>229 rows × 6 columns</p>\n",
       "</div>"
      ],
      "text/plain": [
       "   index     value                                                vin  \\\n",
       "0     17  0.000266  [{'txid': '837e15ce0dd72eb3d3e2062d1b62dbde477...   \n",
       "1     27  0.000344  [{'txid': 'bcc8939c28df09d49a533444952f45d1a27...   \n",
       "2     78  0.000345  [{'txid': '00ebdfc6374595a54c682d6f9ac808cec92...   \n",
       "3     89  0.000053  [{'txid': '428456007e50efb130c0b7e12046c089b61...   \n",
       "4     89  0.000053  [{'txid': '428456007e50efb130c0b7e12046c089b61...   \n",
       "..   ...       ...                                                ...   \n",
       "46   898  0.000169  [{'txid': '4b1a86b3aa5a501c9b9909c6994beb23d18...   \n",
       "47   921  0.000159  [{'txid': '1ed1092254df98c0b717442f5ee3126f47b...   \n",
       "48   979  0.000167  [{'txid': 'db36bc06bb09b87b66983cf1ee27f1ad022...   \n",
       "49   983  0.000211  [{'txid': '7274893cdb994f3f9b6be1699fabe15619b...   \n",
       "50   983  0.000209  [{'txid': '7274893cdb994f3f9b6be1699fabe15619b...   \n",
       "\n",
       "                                                 vout    btcsum  delta_sum  \n",
       "0   [{'value': 0.03079509, 'n': 0, 'scriptPubKey':...  0.000257   0.035504  \n",
       "1   [{'value': 0.00158392, 'n': 0, 'scriptPubKey':...  0.000325   0.055600  \n",
       "2   [{'value': 0.0, 'n': 0, 'scriptPubKey': {'asm'...  0.000325   0.058734  \n",
       "3   [{'value': 0.00136242, 'n': 0, 'scriptPubKey':...  0.000051   0.033174  \n",
       "4   [{'value': 0.00136242, 'n': 0, 'scriptPubKey':...  0.000051   0.033174  \n",
       "..                                                ...       ...        ...  \n",
       "46  [{'value': 0.00060324, 'n': 0, 'scriptPubKey':...  0.000158   0.067762  \n",
       "47  [{'value': 9.058e-05, 'n': 0, 'scriptPubKey': ...  0.000158   0.006101  \n",
       "48  [{'value': 4.488e-05, 'n': 0, 'scriptPubKey': ...  0.000158   0.057293  \n",
       "49  [{'value': 0.0001432, 'n': 0, 'scriptPubKey': ...  0.000195   0.080019  \n",
       "50  [{'value': 0.0001432, 'n': 0, 'scriptPubKey': ...  0.000195   0.071372  \n",
       "\n",
       "[229 rows x 6 columns]"
      ]
     },
     "execution_count": 38,
     "metadata": {},
     "output_type": "execute_result"
    }
   ],
   "source": [
    "d[['index','value','vin','vout','btcsum','delta_sum']]"
   ]
  },
  {
   "cell_type": "code",
   "execution_count": 42,
   "metadata": {},
   "outputs": [
    {
     "data": {
      "text/plain": [
       "0                            [0.03079509]\n",
       "1                [0.00158392, 0.00296187]\n",
       "2     [0.0, 0.00231, 0.00231, 4.41589236]\n",
       "3                            [0.00136242]\n",
       "4                            [0.00136242]\n",
       "                     ...                 \n",
       "46                           [0.00060324]\n",
       "47                            [9.058e-05]\n",
       "48                [4.488e-05, 0.00026913]\n",
       "49                 [0.0001432, 0.0016886]\n",
       "50                 [0.0001432, 0.0016886]\n",
       "Name: vout, Length: 229, dtype: object"
      ]
     },
     "execution_count": 42,
     "metadata": {},
     "output_type": "execute_result"
    }
   ],
   "source": [
    "d['vout'].map(decode_v).map(lambda x: [i['value'] for i in x])"
   ]
  }
 ],
 "metadata": {
  "kernelspec": {
   "display_name": "Python 3",
   "language": "python",
   "name": "python3"
  },
  "language_info": {
   "codemirror_mode": {
    "name": "ipython",
    "version": 3
   },
   "file_extension": ".py",
   "mimetype": "text/x-python",
   "name": "python",
   "nbconvert_exporter": "python",
   "pygments_lexer": "ipython3",
   "version": "3.11.7"
  }
 },
 "nbformat": 4,
 "nbformat_minor": 2
}
