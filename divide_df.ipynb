{
 "cells": [
  {
   "cell_type": "code",
   "execution_count": 2,
   "outputs": [],
   "source": [
    "import os\n",
    "import pandas as pd\n",
    "import re\n",
    "\n",
    "def split_df_by_block(df_name):\n",
    "    pattern = r'.*/script_rpc_blocks_(\\d+)_(\\d+)\\.csv'\n",
    "    match = re.match(pattern, df_name)\n",
    "    if match:\n",
    "        start_block = int(match.group(1))\n",
    "        end_block = int(match.group(2))\n",
    "        split_block = (start_block + end_block) // 2\n",
    "        new_df_name = '{}/script_rpc_blocks_{}_{}.csv'.format(df_name.rsplit('/', 1)[0], {}, {})\n",
    "        df = pd.read_csv(df_name)\n",
    "        df1 = df[df['blockNumber'] <= split_block]\n",
    "        df2 = df[df['blockNumber'] > split_block]\n",
    "        df1.to_csv(new_df_name.format(start_block, split_block), index=False)\n",
    "        df2.to_csv(new_df_name.format(split_block + 1, end_block), index=False)\n",
    "        os.remove(df_name)\n",
    "    else:\n",
    "        raise ValueError(f\"Incorrect input {df_name}\")"
   ],
   "metadata": {
    "collapsed": false
   }
  },
  {
   "cell_type": "code",
   "execution_count": 3,
   "outputs": [],
   "source": [
    "split_df_by_block(\"part2/script_rpc_blocks_834744_835048.csv\")"
   ],
   "metadata": {
    "collapsed": false
   }
  }
 ],
 "metadata": {
  "kernelspec": {
   "display_name": "Python 3",
   "language": "python",
   "name": "python3"
  },
  "language_info": {
   "codemirror_mode": {
    "name": "ipython",
    "version": 2
   },
   "file_extension": ".py",
   "mimetype": "text/x-python",
   "name": "python",
   "nbconvert_exporter": "python",
   "pygments_lexer": "ipython2",
   "version": "2.7.6"
  }
 },
 "nbformat": 4,
 "nbformat_minor": 0
}
