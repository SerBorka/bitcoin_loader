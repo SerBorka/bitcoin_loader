{
 "cells": [
  {
   "cell_type": "code",
   "execution_count": 6,
   "outputs": [],
   "source": [
    "import os\n",
    "import pandas as pd\n",
    "import re\n",
    "import datetime\n",
    "\n",
    "def ts2dt(x):\n",
    "    return datetime.datetime.utcfromtimestamp(x)\n",
    "\n",
    "def filter_df(data_path):\n",
    "    pattern = r'.*/script_rpc_blocks_(\\d+)_(\\d+)\\.csv'\n",
    "    match = re.match(pattern, data_path)\n",
    "    if match:\n",
    "        start_block = int(match.group(1))\n",
    "        end_block = int(match.group(2))\n",
    "        new_df_name = '{}/filtered_rpc_blocks_{}_{}.csv'.format(data_path.rsplit('/', 1)[0], {}, {})\n",
    "        df = pd.read_csv(data_path).sort_values(by='time')\n",
    "        df['rtime'] = df['time'].map(ts2dt)\n",
    "        len_old = len(df)\n",
    "        print(f\"Загружен датафрейм {data_path}\")\n",
    "        print(f\"Длина датафрейма {len_old}\")\n",
    "        check = pd.read_csv('./check_btc.csv', index_col=0)\n",
    "        check['ltime'] = pd.to_datetime(check['ltime'])\n",
    "        check = check.sort_values(by='ltime')\n",
    "        df = pd.merge_asof(df, check, left_on='rtime', right_on='ltime', direction='nearest')\n",
    "        df = df[df['ltime'] - df['rtime'] < datetime.timedelta(minutes=5)]\n",
    "        len_new = len(df)\n",
    "        print(f\"Новая длина {len_new}. Отфильровано {len_old - len_new}\")\n",
    "        df.to_csv(new_df_name.format(start_block, end_block), index=False)\n"
   ],
   "metadata": {
    "collapsed": false
   }
  },
  {
   "cell_type": "code",
   "execution_count": 7,
   "outputs": [],
   "source": [
    "data_path = \"part1/script_rpc_blocks_834577_834660.csv\""
   ],
   "metadata": {
    "collapsed": false
   }
  },
  {
   "cell_type": "code",
   "execution_count": 8,
   "outputs": [
    {
     "name": "stdout",
     "output_type": "stream",
     "text": [
      "Загружен датафрейм part1/script_rpc_blocks_834577_834660.csv\n",
      "Длина датафрейма 175078\n",
      "Новая длина 129356. Отфильровано 45722\n"
     ]
    }
   ],
   "source": [
    "filter_df(data_path)"
   ],
   "metadata": {
    "collapsed": false
   }
  },
  {
   "cell_type": "code",
   "execution_count": null,
   "outputs": [],
   "source": [],
   "metadata": {
    "collapsed": false
   }
  },
  {
   "cell_type": "code",
   "execution_count": 113,
   "outputs": [],
   "source": [
    "df = pd.read_csv(data_path)"
   ],
   "metadata": {
    "collapsed": false
   }
  },
  {
   "cell_type": "code",
   "execution_count": 114,
   "outputs": [],
   "source": [
    "df = df.head(10000)"
   ],
   "metadata": {
    "collapsed": false
   }
  },
  {
   "cell_type": "code",
   "execution_count": 115,
   "outputs": [
    {
     "data": {
      "text/plain": "10000"
     },
     "execution_count": 115,
     "metadata": {},
     "output_type": "execute_result"
    }
   ],
   "source": [
    "len(df)"
   ],
   "metadata": {
    "collapsed": false
   }
  },
  {
   "cell_type": "code",
   "execution_count": 116,
   "outputs": [],
   "source": [
    "check = pd.read_csv('./check_btc.csv', index_col=0)"
   ],
   "metadata": {
    "collapsed": false
   }
  },
  {
   "cell_type": "code",
   "execution_count": 117,
   "outputs": [],
   "source": [
    "check['ltime'] = pd.to_datetime(check['ltime'])"
   ],
   "metadata": {
    "collapsed": false
   }
  },
  {
   "cell_type": "code",
   "execution_count": 118,
   "outputs": [],
   "source": [
    "check = check.sort_values(by='ltime')"
   ],
   "metadata": {
    "collapsed": false
   }
  },
  {
   "cell_type": "code",
   "execution_count": 119,
   "outputs": [
    {
     "data": {
      "text/plain": "4300"
     },
     "execution_count": 119,
     "metadata": {},
     "output_type": "execute_result"
    }
   ],
   "source": [
    "len(check)"
   ],
   "metadata": {
    "collapsed": false
   }
  },
  {
   "cell_type": "code",
   "execution_count": 120,
   "outputs": [
    {
     "data": {
      "text/plain": "                     ltime    btcsum\n116250 2024-02-29 21:06:53  0.000883\n83376  2024-02-29 21:07:09  0.001767\n165801 2024-02-29 21:13:19  0.000353\n116267 2024-02-29 21:19:29  0.000883\n132860 2024-02-29 21:41:50  0.000447\n...                    ...       ...\n66759  2024-03-31 19:24:05  0.000153\n66736  2024-03-31 19:25:06  0.000611\n66744  2024-03-31 19:31:22  0.000458\n66738  2024-03-31 19:31:37  0.000611\n66741  2024-03-31 19:36:18  0.000458\n\n[4300 rows x 2 columns]",
      "text/html": "<div>\n<style scoped>\n    .dataframe tbody tr th:only-of-type {\n        vertical-align: middle;\n    }\n\n    .dataframe tbody tr th {\n        vertical-align: top;\n    }\n\n    .dataframe thead th {\n        text-align: right;\n    }\n</style>\n<table border=\"1\" class=\"dataframe\">\n  <thead>\n    <tr style=\"text-align: right;\">\n      <th></th>\n      <th>ltime</th>\n      <th>btcsum</th>\n    </tr>\n  </thead>\n  <tbody>\n    <tr>\n      <th>116250</th>\n      <td>2024-02-29 21:06:53</td>\n      <td>0.000883</td>\n    </tr>\n    <tr>\n      <th>83376</th>\n      <td>2024-02-29 21:07:09</td>\n      <td>0.001767</td>\n    </tr>\n    <tr>\n      <th>165801</th>\n      <td>2024-02-29 21:13:19</td>\n      <td>0.000353</td>\n    </tr>\n    <tr>\n      <th>116267</th>\n      <td>2024-02-29 21:19:29</td>\n      <td>0.000883</td>\n    </tr>\n    <tr>\n      <th>132860</th>\n      <td>2024-02-29 21:41:50</td>\n      <td>0.000447</td>\n    </tr>\n    <tr>\n      <th>...</th>\n      <td>...</td>\n      <td>...</td>\n    </tr>\n    <tr>\n      <th>66759</th>\n      <td>2024-03-31 19:24:05</td>\n      <td>0.000153</td>\n    </tr>\n    <tr>\n      <th>66736</th>\n      <td>2024-03-31 19:25:06</td>\n      <td>0.000611</td>\n    </tr>\n    <tr>\n      <th>66744</th>\n      <td>2024-03-31 19:31:22</td>\n      <td>0.000458</td>\n    </tr>\n    <tr>\n      <th>66738</th>\n      <td>2024-03-31 19:31:37</td>\n      <td>0.000611</td>\n    </tr>\n    <tr>\n      <th>66741</th>\n      <td>2024-03-31 19:36:18</td>\n      <td>0.000458</td>\n    </tr>\n  </tbody>\n</table>\n<p>4300 rows × 2 columns</p>\n</div>"
     },
     "execution_count": 120,
     "metadata": {},
     "output_type": "execute_result"
    }
   ],
   "source": [
    "check"
   ],
   "metadata": {
    "collapsed": false
   }
  },
  {
   "cell_type": "code",
   "execution_count": 121,
   "outputs": [],
   "source": [
    "df['rtime'] = df['time'].map(ts2dt)\n",
    "df = df.sort_values(by='rtime')"
   ],
   "metadata": {
    "collapsed": false
   }
  },
  {
   "cell_type": "code",
   "execution_count": 122,
   "outputs": [
    {
     "data": {
      "text/plain": "33035    2024-03-14 10:34:06\n49931    2024-03-14 11:01:54\n610427   2024-03-14 11:21:29\n593910   2024-03-14 11:36:48\n33233    2024-03-14 12:32:39\n29       2024-03-14 12:40:59\n66483    2024-03-14 12:43:49\n49885    2024-03-14 12:44:40\n66386    2024-03-14 12:45:04\n33373    2024-03-14 12:45:18\n49874    2024-03-14 12:45:21\n23       2024-03-14 12:45:31\n49801    2024-03-14 12:46:00\n41       2024-03-14 12:46:06\n46       2024-03-14 12:50:37\n44       2024-03-14 12:51:18\n20       2024-03-14 12:51:28\n40       2024-03-14 12:51:33\n1        2024-03-14 12:51:44\n21       2024-03-14 12:52:45\nName: ltime, dtype: datetime64[ns]"
     },
     "execution_count": 122,
     "metadata": {},
     "output_type": "execute_result"
    }
   ],
   "source": [
    "ind = 3480\n",
    "check['ltime'][ind:ind + 20]"
   ],
   "metadata": {
    "collapsed": false
   }
  },
  {
   "cell_type": "code",
   "execution_count": 123,
   "outputs": [
    {
     "data": {
      "text/plain": "0      2024-03-14 12:14:26\n1732   2024-03-14 12:14:26\n1733   2024-03-14 12:14:26\n1734   2024-03-14 12:14:26\n1735   2024-03-14 12:14:26\n1736   2024-03-14 12:14:26\n1737   2024-03-14 12:14:26\n1738   2024-03-14 12:14:26\n1731   2024-03-14 12:14:26\n1739   2024-03-14 12:14:26\nName: rtime, dtype: datetime64[ns]"
     },
     "execution_count": 123,
     "metadata": {},
     "output_type": "execute_result"
    }
   ],
   "source": [
    "df['rtime'][:10]"
   ],
   "metadata": {
    "collapsed": false
   }
  },
  {
   "cell_type": "code",
   "execution_count": 124,
   "outputs": [],
   "source": [
    "import datetime\n",
    "def ts2dt(x):\n",
    "    return datetime.datetime.utcfromtimestamp(x)"
   ],
   "metadata": {
    "collapsed": false
   }
  },
  {
   "cell_type": "code",
   "execution_count": 127,
   "outputs": [],
   "source": [
    "df = pd.merge_asof(df, check, left_on='rtime', right_on='ltime', direction='nearest')"
   ],
   "metadata": {
    "collapsed": false
   }
  },
  {
   "cell_type": "code",
   "execution_count": 128,
   "outputs": [],
   "source": [
    "# df['rtime'] = pd.merge_asof(df, check, left_on='ltime', right_on='ltime', direction='nearest')"
   ],
   "metadata": {
    "collapsed": false
   }
  },
  {
   "cell_type": "code",
   "execution_count": 129,
   "outputs": [
    {
     "data": {
      "text/plain": "   in_active_chain                                               txid  \\\n0             True  cc3d2ae9ed7f719dccc5475638ace7cfce03af7376f573...   \n1             True  08e994436242dd2206abae88518f169d62d1ed3fe6c17f...   \n2             True  d4215e88e7ea22aa6167469973436999bd86d9e1f1fad7...   \n3             True  38e14aa2f30b0114d5b010c6457b18531d035fa450b0c4...   \n4             True  5e6e893616b08a16d690d615ba7048c404855828f7c789...   \n\n                                                hash  version  size  vsize  \\\n0  698c5a5b76a9a58599060741559bc898ab5b585dee3791...        1   396    369   \n1  bce4defb2a436d4be7197a952c10b4e9ce2edc039c53f4...        1   223    141   \n2  cae31fab4c872abb4a08882aedd09d4184939eb8f3f036...        1   520    277   \n3  020be95be7695aeaa03fd405996b47412ee796c3a39fa5...        1   193    111   \n4  28509bbcbce90dcddaa296426f64de151ec55ebbf7e1e4...        1   404    213   \n\n   weight  locktime                                                vin  \\\n0    1476         0  [{'coinbase': '0365bc0c1d506f77657265642062792...   \n1     562         0  [{'txid': 'c8e8671a2abf065f365ad7de9eca8b88b94...   \n2    1105         0  [{'txid': '5504708a3e0484f27790808ef4054ab115e...   \n3     442         0  [{'txid': '08512c45c4a4dc6fc3267394fc085593764...   \n4     851         0  [{'txid': '2716ba171d41efdd949218de1dcf87f7b18...   \n\n                                                vout  \\\n0  [{'value': 5.46e-06, 'n': 0, 'scriptPubKey': {...   \n1  [{'value': 0.00042065, 'n': 0, 'scriptPubKey':...   \n2  [{'value': 0.01249804, 'n': 0, 'scriptPubKey':...   \n3  [{'value': 0.02707927, 'n': 0, 'scriptPubKey':...   \n4  [{'value': 0.00247116, 'n': 0, 'scriptPubKey':...   \n\n                                                 hex  \\\n0  0100000000010100000000000000000000000000000000...   \n1  010000000001011513483e594fdf4985f85bab9da840b9...   \n2  01000000000103e5dbb73a99683b8b02cac55c9508e415...   \n3  01000000000101350e2752c2d682c74fe977d7dab34076...   \n4  010000000001013d2b4bb50189eefe290dcb85e74180b1...   \n\n                                           blockhash  confirmations  \\\n0  00000000000000000001765727b18bf7604ce8e017504f...          10850   \n1  00000000000000000001765727b18bf7604ce8e017504f...          10850   \n2  00000000000000000001765727b18bf7604ce8e017504f...          10850   \n3  00000000000000000001765727b18bf7604ce8e017504f...          10850   \n4  00000000000000000001765727b18bf7604ce8e017504f...          10850   \n\n         time   blocktime  blockNumber               rtime  \\\n0  1710418466  1710418466       834661 2024-03-14 12:14:26   \n1  1710418466  1710418466       834661 2024-03-14 12:14:26   \n2  1710418466  1710418466       834661 2024-03-14 12:14:26   \n3  1710418466  1710418466       834661 2024-03-14 12:14:26   \n4  1710418466  1710418466       834661 2024-03-14 12:14:26   \n\n                ltime    btcsum  \n0 2024-03-14 12:32:39  0.000601  \n1 2024-03-14 12:32:39  0.000601  \n2 2024-03-14 12:32:39  0.000601  \n3 2024-03-14 12:32:39  0.000601  \n4 2024-03-14 12:32:39  0.000601  ",
      "text/html": "<div>\n<style scoped>\n    .dataframe tbody tr th:only-of-type {\n        vertical-align: middle;\n    }\n\n    .dataframe tbody tr th {\n        vertical-align: top;\n    }\n\n    .dataframe thead th {\n        text-align: right;\n    }\n</style>\n<table border=\"1\" class=\"dataframe\">\n  <thead>\n    <tr style=\"text-align: right;\">\n      <th></th>\n      <th>in_active_chain</th>\n      <th>txid</th>\n      <th>hash</th>\n      <th>version</th>\n      <th>size</th>\n      <th>vsize</th>\n      <th>weight</th>\n      <th>locktime</th>\n      <th>vin</th>\n      <th>vout</th>\n      <th>hex</th>\n      <th>blockhash</th>\n      <th>confirmations</th>\n      <th>time</th>\n      <th>blocktime</th>\n      <th>blockNumber</th>\n      <th>rtime</th>\n      <th>ltime</th>\n      <th>btcsum</th>\n    </tr>\n  </thead>\n  <tbody>\n    <tr>\n      <th>0</th>\n      <td>True</td>\n      <td>cc3d2ae9ed7f719dccc5475638ace7cfce03af7376f573...</td>\n      <td>698c5a5b76a9a58599060741559bc898ab5b585dee3791...</td>\n      <td>1</td>\n      <td>396</td>\n      <td>369</td>\n      <td>1476</td>\n      <td>0</td>\n      <td>[{'coinbase': '0365bc0c1d506f77657265642062792...</td>\n      <td>[{'value': 5.46e-06, 'n': 0, 'scriptPubKey': {...</td>\n      <td>0100000000010100000000000000000000000000000000...</td>\n      <td>00000000000000000001765727b18bf7604ce8e017504f...</td>\n      <td>10850</td>\n      <td>1710418466</td>\n      <td>1710418466</td>\n      <td>834661</td>\n      <td>2024-03-14 12:14:26</td>\n      <td>2024-03-14 12:32:39</td>\n      <td>0.000601</td>\n    </tr>\n    <tr>\n      <th>1</th>\n      <td>True</td>\n      <td>08e994436242dd2206abae88518f169d62d1ed3fe6c17f...</td>\n      <td>bce4defb2a436d4be7197a952c10b4e9ce2edc039c53f4...</td>\n      <td>1</td>\n      <td>223</td>\n      <td>141</td>\n      <td>562</td>\n      <td>0</td>\n      <td>[{'txid': 'c8e8671a2abf065f365ad7de9eca8b88b94...</td>\n      <td>[{'value': 0.00042065, 'n': 0, 'scriptPubKey':...</td>\n      <td>010000000001011513483e594fdf4985f85bab9da840b9...</td>\n      <td>00000000000000000001765727b18bf7604ce8e017504f...</td>\n      <td>10850</td>\n      <td>1710418466</td>\n      <td>1710418466</td>\n      <td>834661</td>\n      <td>2024-03-14 12:14:26</td>\n      <td>2024-03-14 12:32:39</td>\n      <td>0.000601</td>\n    </tr>\n    <tr>\n      <th>2</th>\n      <td>True</td>\n      <td>d4215e88e7ea22aa6167469973436999bd86d9e1f1fad7...</td>\n      <td>cae31fab4c872abb4a08882aedd09d4184939eb8f3f036...</td>\n      <td>1</td>\n      <td>520</td>\n      <td>277</td>\n      <td>1105</td>\n      <td>0</td>\n      <td>[{'txid': '5504708a3e0484f27790808ef4054ab115e...</td>\n      <td>[{'value': 0.01249804, 'n': 0, 'scriptPubKey':...</td>\n      <td>01000000000103e5dbb73a99683b8b02cac55c9508e415...</td>\n      <td>00000000000000000001765727b18bf7604ce8e017504f...</td>\n      <td>10850</td>\n      <td>1710418466</td>\n      <td>1710418466</td>\n      <td>834661</td>\n      <td>2024-03-14 12:14:26</td>\n      <td>2024-03-14 12:32:39</td>\n      <td>0.000601</td>\n    </tr>\n    <tr>\n      <th>3</th>\n      <td>True</td>\n      <td>38e14aa2f30b0114d5b010c6457b18531d035fa450b0c4...</td>\n      <td>020be95be7695aeaa03fd405996b47412ee796c3a39fa5...</td>\n      <td>1</td>\n      <td>193</td>\n      <td>111</td>\n      <td>442</td>\n      <td>0</td>\n      <td>[{'txid': '08512c45c4a4dc6fc3267394fc085593764...</td>\n      <td>[{'value': 0.02707927, 'n': 0, 'scriptPubKey':...</td>\n      <td>01000000000101350e2752c2d682c74fe977d7dab34076...</td>\n      <td>00000000000000000001765727b18bf7604ce8e017504f...</td>\n      <td>10850</td>\n      <td>1710418466</td>\n      <td>1710418466</td>\n      <td>834661</td>\n      <td>2024-03-14 12:14:26</td>\n      <td>2024-03-14 12:32:39</td>\n      <td>0.000601</td>\n    </tr>\n    <tr>\n      <th>4</th>\n      <td>True</td>\n      <td>5e6e893616b08a16d690d615ba7048c404855828f7c789...</td>\n      <td>28509bbcbce90dcddaa296426f64de151ec55ebbf7e1e4...</td>\n      <td>1</td>\n      <td>404</td>\n      <td>213</td>\n      <td>851</td>\n      <td>0</td>\n      <td>[{'txid': '2716ba171d41efdd949218de1dcf87f7b18...</td>\n      <td>[{'value': 0.00247116, 'n': 0, 'scriptPubKey':...</td>\n      <td>010000000001013d2b4bb50189eefe290dcb85e74180b1...</td>\n      <td>00000000000000000001765727b18bf7604ce8e017504f...</td>\n      <td>10850</td>\n      <td>1710418466</td>\n      <td>1710418466</td>\n      <td>834661</td>\n      <td>2024-03-14 12:14:26</td>\n      <td>2024-03-14 12:32:39</td>\n      <td>0.000601</td>\n    </tr>\n  </tbody>\n</table>\n</div>"
     },
     "execution_count": 129,
     "metadata": {},
     "output_type": "execute_result"
    }
   ],
   "source": [
    "df.head()"
   ],
   "metadata": {
    "collapsed": false
   }
  },
  {
   "cell_type": "code",
   "execution_count": 130,
   "outputs": [
    {
     "data": {
      "text/plain": "                     ltime    btcsum\n116250 2024-02-29 21:06:53  0.000883\n83376  2024-02-29 21:07:09  0.001767\n165801 2024-02-29 21:13:19  0.000353\n116267 2024-02-29 21:19:29  0.000883\n132860 2024-02-29 21:41:50  0.000447\n66573  2024-02-29 21:55:23  0.003579\n66955  2024-02-29 21:56:12  0.003042\n149396 2024-02-29 22:00:57  0.000358\n66562  2024-02-29 22:10:34  0.004474\n593959 2024-02-29 22:54:32  0.000184\n593956 2024-03-01 01:25:12  0.000355\n132793 2024-03-01 04:41:29  0.000533\n165929 2024-03-01 05:07:32  0.000266\n610361 2024-03-01 05:17:17  0.000053\n165958 2024-03-01 06:23:46  0.000266\n66592  2024-03-01 06:23:58  0.001009\n132754 2024-03-01 06:45:10  0.000531\n66564  2024-03-01 06:45:23  0.004402\n132785 2024-03-01 06:59:27  0.000532\n165849 2024-03-01 07:07:05  0.000354\n66585  2024-03-01 07:19:58  0.001772\n166108 2024-03-01 07:23:59  0.000177\n132936 2024-03-01 07:28:01  0.000354\n83355  2024-03-01 07:32:18  0.001772\n132814 2024-03-01 07:33:10  0.000532\n248276 2024-03-01 07:51:26  0.000106\n66577  2024-03-01 07:58:20  0.002906\n248253 2024-03-01 08:02:24  0.000115\n116336 2024-03-01 08:08:48  0.000620\n66591  2024-03-01 08:14:52  0.001058\n132774 2024-03-01 08:15:08  0.000532\n511316 2024-03-01 08:21:59  0.000089\n281333 2024-03-01 08:22:10  0.000700\n379961 2024-03-01 08:22:25  0.000177\n281334 2024-03-01 08:22:31  0.000620\n330559 2024-03-01 08:22:37  0.000443\n330563 2024-03-01 08:22:57  0.000425\n264880 2024-03-01 08:23:05  0.001064\n281306 2024-03-01 08:23:11  0.000886\n511301 2024-03-01 08:23:32  0.000089",
      "text/html": "<div>\n<style scoped>\n    .dataframe tbody tr th:only-of-type {\n        vertical-align: middle;\n    }\n\n    .dataframe tbody tr th {\n        vertical-align: top;\n    }\n\n    .dataframe thead th {\n        text-align: right;\n    }\n</style>\n<table border=\"1\" class=\"dataframe\">\n  <thead>\n    <tr style=\"text-align: right;\">\n      <th></th>\n      <th>ltime</th>\n      <th>btcsum</th>\n    </tr>\n  </thead>\n  <tbody>\n    <tr>\n      <th>116250</th>\n      <td>2024-02-29 21:06:53</td>\n      <td>0.000883</td>\n    </tr>\n    <tr>\n      <th>83376</th>\n      <td>2024-02-29 21:07:09</td>\n      <td>0.001767</td>\n    </tr>\n    <tr>\n      <th>165801</th>\n      <td>2024-02-29 21:13:19</td>\n      <td>0.000353</td>\n    </tr>\n    <tr>\n      <th>116267</th>\n      <td>2024-02-29 21:19:29</td>\n      <td>0.000883</td>\n    </tr>\n    <tr>\n      <th>132860</th>\n      <td>2024-02-29 21:41:50</td>\n      <td>0.000447</td>\n    </tr>\n    <tr>\n      <th>66573</th>\n      <td>2024-02-29 21:55:23</td>\n      <td>0.003579</td>\n    </tr>\n    <tr>\n      <th>66955</th>\n      <td>2024-02-29 21:56:12</td>\n      <td>0.003042</td>\n    </tr>\n    <tr>\n      <th>149396</th>\n      <td>2024-02-29 22:00:57</td>\n      <td>0.000358</td>\n    </tr>\n    <tr>\n      <th>66562</th>\n      <td>2024-02-29 22:10:34</td>\n      <td>0.004474</td>\n    </tr>\n    <tr>\n      <th>593959</th>\n      <td>2024-02-29 22:54:32</td>\n      <td>0.000184</td>\n    </tr>\n    <tr>\n      <th>593956</th>\n      <td>2024-03-01 01:25:12</td>\n      <td>0.000355</td>\n    </tr>\n    <tr>\n      <th>132793</th>\n      <td>2024-03-01 04:41:29</td>\n      <td>0.000533</td>\n    </tr>\n    <tr>\n      <th>165929</th>\n      <td>2024-03-01 05:07:32</td>\n      <td>0.000266</td>\n    </tr>\n    <tr>\n      <th>610361</th>\n      <td>2024-03-01 05:17:17</td>\n      <td>0.000053</td>\n    </tr>\n    <tr>\n      <th>165958</th>\n      <td>2024-03-01 06:23:46</td>\n      <td>0.000266</td>\n    </tr>\n    <tr>\n      <th>66592</th>\n      <td>2024-03-01 06:23:58</td>\n      <td>0.001009</td>\n    </tr>\n    <tr>\n      <th>132754</th>\n      <td>2024-03-01 06:45:10</td>\n      <td>0.000531</td>\n    </tr>\n    <tr>\n      <th>66564</th>\n      <td>2024-03-01 06:45:23</td>\n      <td>0.004402</td>\n    </tr>\n    <tr>\n      <th>132785</th>\n      <td>2024-03-01 06:59:27</td>\n      <td>0.000532</td>\n    </tr>\n    <tr>\n      <th>165849</th>\n      <td>2024-03-01 07:07:05</td>\n      <td>0.000354</td>\n    </tr>\n    <tr>\n      <th>66585</th>\n      <td>2024-03-01 07:19:58</td>\n      <td>0.001772</td>\n    </tr>\n    <tr>\n      <th>166108</th>\n      <td>2024-03-01 07:23:59</td>\n      <td>0.000177</td>\n    </tr>\n    <tr>\n      <th>132936</th>\n      <td>2024-03-01 07:28:01</td>\n      <td>0.000354</td>\n    </tr>\n    <tr>\n      <th>83355</th>\n      <td>2024-03-01 07:32:18</td>\n      <td>0.001772</td>\n    </tr>\n    <tr>\n      <th>132814</th>\n      <td>2024-03-01 07:33:10</td>\n      <td>0.000532</td>\n    </tr>\n    <tr>\n      <th>248276</th>\n      <td>2024-03-01 07:51:26</td>\n      <td>0.000106</td>\n    </tr>\n    <tr>\n      <th>66577</th>\n      <td>2024-03-01 07:58:20</td>\n      <td>0.002906</td>\n    </tr>\n    <tr>\n      <th>248253</th>\n      <td>2024-03-01 08:02:24</td>\n      <td>0.000115</td>\n    </tr>\n    <tr>\n      <th>116336</th>\n      <td>2024-03-01 08:08:48</td>\n      <td>0.000620</td>\n    </tr>\n    <tr>\n      <th>66591</th>\n      <td>2024-03-01 08:14:52</td>\n      <td>0.001058</td>\n    </tr>\n    <tr>\n      <th>132774</th>\n      <td>2024-03-01 08:15:08</td>\n      <td>0.000532</td>\n    </tr>\n    <tr>\n      <th>511316</th>\n      <td>2024-03-01 08:21:59</td>\n      <td>0.000089</td>\n    </tr>\n    <tr>\n      <th>281333</th>\n      <td>2024-03-01 08:22:10</td>\n      <td>0.000700</td>\n    </tr>\n    <tr>\n      <th>379961</th>\n      <td>2024-03-01 08:22:25</td>\n      <td>0.000177</td>\n    </tr>\n    <tr>\n      <th>281334</th>\n      <td>2024-03-01 08:22:31</td>\n      <td>0.000620</td>\n    </tr>\n    <tr>\n      <th>330559</th>\n      <td>2024-03-01 08:22:37</td>\n      <td>0.000443</td>\n    </tr>\n    <tr>\n      <th>330563</th>\n      <td>2024-03-01 08:22:57</td>\n      <td>0.000425</td>\n    </tr>\n    <tr>\n      <th>264880</th>\n      <td>2024-03-01 08:23:05</td>\n      <td>0.001064</td>\n    </tr>\n    <tr>\n      <th>281306</th>\n      <td>2024-03-01 08:23:11</td>\n      <td>0.000886</td>\n    </tr>\n    <tr>\n      <th>511301</th>\n      <td>2024-03-01 08:23:32</td>\n      <td>0.000089</td>\n    </tr>\n  </tbody>\n</table>\n</div>"
     },
     "execution_count": 130,
     "metadata": {},
     "output_type": "execute_result"
    }
   ],
   "source": [
    "check.head(40)"
   ],
   "metadata": {
    "collapsed": false
   }
  },
  {
   "cell_type": "code",
   "execution_count": 52,
   "outputs": [
    {
     "data": {
      "text/plain": "0      2024-03-14 11:36:48\n1732   2024-03-14 11:36:48\n1733   2024-03-14 11:36:48\n1734   2024-03-14 11:36:48\n1735   2024-03-14 11:36:48\n               ...        \n8820   2024-03-14 12:55:34\n8819   2024-03-14 12:55:34\n8818   2024-03-14 12:55:34\n8829   2024-03-14 12:55:34\n9999   2024-03-14 12:55:34\nName: ltime, Length: 10000, dtype: datetime64[ns]"
     },
     "execution_count": 52,
     "metadata": {},
     "output_type": "execute_result"
    }
   ],
   "source": [
    "df['ltime']"
   ],
   "metadata": {
    "collapsed": false
   }
  },
  {
   "cell_type": "code",
   "execution_count": 135,
   "outputs": [],
   "source": [
    "df = df[df['ltime'] - df['rtime'] < datetime.timedelta(minutes=1)]"
   ],
   "metadata": {
    "collapsed": false
   }
  },
  {
   "cell_type": "code",
   "execution_count": 136,
   "outputs": [
    {
     "data": {
      "text/plain": "4315"
     },
     "execution_count": 136,
     "metadata": {},
     "output_type": "execute_result"
    }
   ],
   "source": [
    "len(df)"
   ],
   "metadata": {
    "collapsed": false
   }
  },
  {
   "cell_type": "code",
   "execution_count": 13,
   "outputs": [
    {
     "data": {
      "text/plain": "Timedelta('-1 days +23:54:43')"
     },
     "execution_count": 13,
     "metadata": {},
     "output_type": "execute_result"
    }
   ],
   "source": [
    "(df['ltime'] - df['time'])[0]"
   ],
   "metadata": {
    "collapsed": false
   }
  },
  {
   "cell_type": "code",
   "execution_count": 19,
   "outputs": [
    {
     "data": {
      "text/plain": "Timestamp('2024-03-13 22:40:42')"
     },
     "execution_count": 19,
     "metadata": {},
     "output_type": "execute_result"
    }
   ],
   "source": [
    "x = df['time'][0]\n",
    "x"
   ],
   "metadata": {
    "collapsed": false
   }
  },
  {
   "cell_type": "code",
   "execution_count": 20,
   "outputs": [
    {
     "data": {
      "text/plain": "Timestamp('2024-03-13 22:35:25')"
     },
     "execution_count": 20,
     "metadata": {},
     "output_type": "execute_result"
    }
   ],
   "source": [
    "y = df['ltime'][0]\n",
    "y"
   ],
   "metadata": {
    "collapsed": false
   }
  },
  {
   "cell_type": "code",
   "execution_count": 27,
   "outputs": [
    {
     "data": {
      "text/plain": "True"
     },
     "execution_count": 27,
     "metadata": {},
     "output_type": "execute_result"
    }
   ],
   "source": [
    "(y - x) < datetime.timedelta(minutes=30)"
   ],
   "metadata": {
    "collapsed": false
   }
  },
  {
   "cell_type": "code",
   "execution_count": null,
   "outputs": [],
   "source": [],
   "metadata": {
    "collapsed": false
   }
  }
 ],
 "metadata": {
  "kernelspec": {
   "display_name": "Python 3",
   "language": "python",
   "name": "python3"
  },
  "language_info": {
   "codemirror_mode": {
    "name": "ipython",
    "version": 2
   },
   "file_extension": ".py",
   "mimetype": "text/x-python",
   "name": "python",
   "nbconvert_exporter": "python",
   "pygments_lexer": "ipython2",
   "version": "2.7.6"
  }
 },
 "nbformat": 4,
 "nbformat_minor": 0
}
